{
 "cells": [
  {
   "cell_type": "code",
   "execution_count": 32,
   "id": "25257024-b7f6-4471-9352-a3498e8e1310",
   "metadata": {},
   "outputs": [],
   "source": [
    "import numpy as np "
   ]
  },
  {
   "cell_type": "markdown",
   "id": "61e62dd2-bae0-4fe6-8d96-74da4e946661",
   "metadata": {},
   "source": [
    "##Data Types & Attributes"
   ]
  },
  {
   "cell_type": "code",
   "execution_count": 34,
   "id": "7da8c56d-cde7-49c4-8dc4-90733f67f0ec",
   "metadata": {},
   "outputs": [
    {
     "name": "stdout",
     "output_type": "stream",
     "text": [
      "Array: [0 1 2 3 4 5]\n",
      "Data type: int32\n"
     ]
    }
   ],
   "source": [
    "#Que = 1\n",
    "arr = np.arange(6) \n",
    "print(\"Array:\", arr)\n",
    "print(\"Data type:\", arr.dtype)\n"
   ]
  },
  {
   "cell_type": "code",
   "execution_count": 37,
   "id": "2e2f0669-3810-4bd2-8cde-64c82d2b1850",
   "metadata": {},
   "outputs": [
    {
     "name": "stdout",
     "output_type": "stream",
     "text": [
      "The array data type is float64.\n"
     ]
    }
   ],
   "source": [
    "#Que = 2\n",
    "arr = np.array([1.0, 2.0, 3.0])\n",
    "if arr.dtype == np.float64:\n",
    "    print(\"The array data type is float64.\")\n",
    "else:\n",
    "    print(\"The array data type is not float64.\")"
   ]
  },
  {
   "cell_type": "code",
   "execution_count": 38,
   "id": "3fc94bad-6a66-4fc1-adf1-4fd093fec2c1",
   "metadata": {},
   "outputs": [
    {
     "name": "stdout",
     "output_type": "stream",
     "text": [
      "Complex Array: [1.+2.j 3.+4.j 5.+6.j]\n",
      "Data type: complex128\n"
     ]
    }
   ],
   "source": [
    "#Que = 3\n",
    "arr = np.array([1+2j, 3+4j, 5+6j], dtype=np.complex128)\n",
    "print(\"Complex Array:\", arr)\n",
    "print(\"Data type:\", arr.dtype)"
   ]
  },
  {
   "cell_type": "code",
   "execution_count": 236,
   "id": "5a71c508-54f1-42c0-94d4-3c80751c84c6",
   "metadata": {},
   "outputs": [
    {
     "name": "stdout",
     "output_type": "stream",
     "text": [
      "Convert into float32: [1. 2. 3. 4.]\n",
      "Data type: float32\n"
     ]
    }
   ],
   "source": [
    "# Que = 4\n",
    "int_arr = np.array([1, 2, 3, 4])\n",
    "float_arr = int_arr.astype(np.float32)\n",
    "print(\"Convert into float32:\", float_arr)\n",
    "print(\"Data type:\", float_arr.dtype)"
   ]
  },
  {
   "cell_type": "code",
   "execution_count": 40,
   "id": "83da2cf9-1acf-40a1-a942-f768d9e16254",
   "metadata": {},
   "outputs": [
    {
     "name": "stdout",
     "output_type": "stream",
     "text": [
      "Converted to float32: [1.1234568 2.9876542]\n",
      "Original dtype: float64\n",
      "New dtype: float32\n"
     ]
    }
   ],
   "source": [
    "#Que = 5\n",
    "float64_arr = np.array([1.123456789, 2.987654321], dtype=np.float64)\n",
    "float32_arr = float64_arr.astype(np.float32)\n",
    "print(\"Converted to float32:\", float32_arr)\n",
    "print(\"Original dtype:\", float64_arr.dtype)\n",
    "print(\"New dtype:\", float32_arr.dtype)"
   ]
  },
  {
   "cell_type": "code",
   "execution_count": 43,
   "id": "968ee2e6-a15f-4020-9c70-5d9117c8efdf",
   "metadata": {},
   "outputs": [
    {
     "name": "stdout",
     "output_type": "stream",
     "text": [
      "Attributes: ((2, 2), 4, dtype('int32'))\n"
     ]
    }
   ],
   "source": [
    "#Que = 6\n",
    "def array_attributes(arr):\n",
    "    return arr.shape, arr.size, arr.dtype\n",
    "a = np.array([[1, 2], [3, 4]])\n",
    "print(\"Attributes:\", array_attributes(a))"
   ]
  },
  {
   "cell_type": "code",
   "execution_count": 44,
   "id": "7508d649-82eb-4925-a004-102581514203",
   "metadata": {},
   "outputs": [
    {
     "name": "stdout",
     "output_type": "stream",
     "text": [
      "Dimensions: 3\n"
     ]
    }
   ],
   "source": [
    "#Que = 7\n",
    "def array_dimension(arr):\n",
    "    return arr.ndim\n",
    "b = np.array([[[1, 2], [3, 4]]])\n",
    "print(\"Dimensions:\", array_dimension(b))"
   ]
  },
  {
   "cell_type": "code",
   "execution_count": 46,
   "id": "d8099774-b219-4887-a836-0573f8025e5b",
   "metadata": {},
   "outputs": [
    {
     "name": "stdout",
     "output_type": "stream",
     "text": [
      "Item size and total size: (4, 12)\n"
     ]
    }
   ],
   "source": [
    "#Que = 8\n",
    "def item_size_info(arr):\n",
    "    return arr.itemsize, arr.nbytes\n",
    "c = np.array([1, 2, 3], dtype=np.int32)\n",
    "print(\"Item size and total size:\", item_size_info(c))"
   ]
  },
  {
   "cell_type": "code",
   "execution_count": 47,
   "id": "cc737880-1dfe-4273-989e-6d50455a0eb5",
   "metadata": {},
   "outputs": [
    {
     "name": "stdout",
     "output_type": "stream",
     "text": [
      "Strides: (8, 4)\n"
     ]
    }
   ],
   "source": [
    "# Que = 9\n",
    "def array_strides(arr):\n",
    "    return arr.strides\n",
    "d = np.array([[1, 2], [3, 4]])\n",
    "print(\"Strides:\", array_strides(d))"
   ]
  },
  {
   "cell_type": "code",
   "execution_count": 51,
   "id": "472eb202-2ba3-4f3d-b9dd-1f9b807fa719",
   "metadata": {},
   "outputs": [
    {
     "name": "stdout",
     "output_type": "stream",
     "text": [
      "Shape: (2, 3)\n",
      "Strides: (12, 4)\n"
     ]
    }
   ],
   "source": [
    "#Que = 10\n",
    "def shape_stride_relationship(arr):\n",
    "    return arr.shape, arr.strides\n",
    "arr = np.array([[1, 2, 3], [4, 5, 6]])\n",
    "shape, strides = shape_stride_relationship(arr)\n",
    "print(\"Shape:\", shape)\n",
    "print(\"Strides:\", strides)"
   ]
  },
  {
   "cell_type": "markdown",
   "id": "542077d9-8fe6-451d-b13b-5b656b574e49",
   "metadata": {},
   "source": [
    "##Array Creation"
   ]
  },
  {
   "cell_type": "code",
   "execution_count": 52,
   "id": "b835f37a-1972-42d3-baee-351237f53dd5",
   "metadata": {},
   "outputs": [
    {
     "name": "stdout",
     "output_type": "stream",
     "text": [
      "Zeros array: [0. 0. 0. 0. 0.]\n"
     ]
    }
   ],
   "source": [
    "#Que = 11\n",
    "def create_zeros_array(n):\n",
    "    return np.zeros(n)\n",
    "print(\"Zeros array:\", create_zeros_array(5))"
   ]
  },
  {
   "cell_type": "code",
   "execution_count": 56,
   "id": "7c155b79-28a8-4a51-9cd0-f94b455f8a73",
   "metadata": {},
   "outputs": [
    {
     "name": "stdout",
     "output_type": "stream",
     "text": [
      "Ones matrix\n",
      ": [[1. 1. 1. 1.]\n",
      " [1. 1. 1. 1.]\n",
      " [1. 1. 1. 1.]]\n"
     ]
    }
   ],
   "source": [
    "#Que = 12\n",
    "def create_ones_matrix(rows, cols):\n",
    "    return np.ones((rows, cols))\n",
    "print(\"Ones matrix\\n:\", create_ones_matrix(3, 4))"
   ]
  },
  {
   "cell_type": "code",
   "execution_count": 57,
   "id": "ca8c0f27-b6b8-47dd-9415-65c21b1dd3a7",
   "metadata": {},
   "outputs": [
    {
     "name": "stdout",
     "output_type": "stream",
     "text": [
      "Ranged array: [0 2 4 6 8]\n"
     ]
    }
   ],
   "source": [
    "#Que = 13\n",
    "def generate_range_array(start, stop, step):\n",
    "    return np.arange(start, stop, step)\n",
    "print(\"Ranged array:\", generate_range_array(0, 10, 2))"
   ]
  },
  {
   "cell_type": "code",
   "execution_count": 58,
   "id": "df469676-eae8-48f3-91af-3456a324c836",
   "metadata": {},
   "outputs": [
    {
     "name": "stdout",
     "output_type": "stream",
     "text": [
      "Linear space array: [1. 2. 3. 4. 5.]\n"
     ]
    }
   ],
   "source": [
    "#Que = 14\n",
    "def generate_linear_space(start, stop, num):\n",
    "    return np.linspace(start, stop, num)\n",
    "print(\"Linear space array:\", generate_linear_space(1, 5, 5))"
   ]
  },
  {
   "cell_type": "code",
   "execution_count": 60,
   "id": "2b590df1-3de6-44fe-b359-b1b954e1a9bd",
   "metadata": {},
   "outputs": [
    {
     "name": "stdout",
     "output_type": "stream",
     "text": [
      "Identity matrix:\n",
      " [[1. 0. 0. 0.]\n",
      " [0. 1. 0. 0.]\n",
      " [0. 0. 1. 0.]\n",
      " [0. 0. 0. 1.]]\n"
     ]
    }
   ],
   "source": [
    "#Que = 15\n",
    "def create_identity_matrix(n):\n",
    "    return np.identity(n)\n",
    "print(\"Identity matrix:\\n\", create_identity_matrix(4))"
   ]
  },
  {
   "cell_type": "code",
   "execution_count": 237,
   "id": "61c927c4-caaa-4187-8f79-4000569688ca",
   "metadata": {},
   "outputs": [
    {
     "name": "stdout",
     "output_type": "stream",
     "text": [
      "Numpy array: [1 2 3 4]\n"
     ]
    }
   ],
   "source": [
    "#Que = 16\n",
    "def list_to_numpy_array(py_list):\n",
    "    return np.array(py_list)\n",
    "print(\"Numpy array:\", list_to_numpy_array([1, 2, 3, 4]))"
   ]
  },
  {
   "cell_type": "code",
   "execution_count": 65,
   "id": "aabb895f-9934-47de-a6d6-edaa8a329a97",
   "metadata": {},
   "outputs": [
    {
     "name": "stdout",
     "output_type": "stream",
     "text": [
      "View array: [10 20 30 40]\n"
     ]
    }
   ],
   "source": [
    "#Que = 17\n",
    "a = np.array([10, 20, 30, 40])\n",
    "a1 = a.view()\n",
    "print(\"View array:\", a1)"
   ]
  },
  {
   "cell_type": "markdown",
   "id": "8a6688e1-0a5e-46e9-b22f-67d175452c82",
   "metadata": {},
   "source": [
    "##Concatenation and Stacking"
   ]
  },
  {
   "cell_type": "code",
   "execution_count": 68,
   "id": "a8888889-9155-4642-8104-a542b889fe7d",
   "metadata": {},
   "outputs": [
    {
     "name": "stdout",
     "output_type": "stream",
     "text": [
      "[1 2 3 6 7 8]\n"
     ]
    }
   ],
   "source": [
    "#Que = 18\n",
    "def concatenate_arrays(arr1, arr2, axis=0):\n",
    "    return np.concatenate((arr1, arr2), axis=axis)\n",
    "print(concatenate_arrays([1,2,3],[6,7,8]))\n"
   ]
  },
  {
   "cell_type": "code",
   "execution_count": 72,
   "id": "09d412c7-5e9a-4b10-b11e-1143caa333fa",
   "metadata": {},
   "outputs": [
    {
     "name": "stdout",
     "output_type": "stream",
     "text": [
      "[[1 2 3 4 9 7 6 8]]\n"
     ]
    }
   ],
   "source": [
    "#Que = 19\n",
    "def horizontal_concatenate(arr1, arr2):\n",
    "    return np.concatenate((arr1, arr2), axis=1)\n",
    "print(horizontal_concatenate([[1,2,3,4]],[[9,7,6,8]])) "
   ]
  },
  {
   "cell_type": "code",
   "execution_count": 79,
   "id": "11fe5e74-ad4c-4185-928e-50b95e3762ff",
   "metadata": {},
   "outputs": [
    {
     "name": "stdout",
     "output_type": "stream",
     "text": [
      "[[1]\n",
      " [3]\n",
      " [4]]\n"
     ]
    }
   ],
   "source": [
    "#Que = 20\n",
    "def vertical_stack(arrays):\n",
    "     return np.vstack(arrays)\n",
    "print(vertical_stack([1,3,4]))"
   ]
  },
  {
   "cell_type": "markdown",
   "id": "462441a3-eb93-4c23-8b21-1c9e1f3894dc",
   "metadata": {},
   "source": [
    "##Pandas + NumPy"
   ]
  },
  {
   "cell_type": "code",
   "execution_count": 85,
   "id": "03b70fbc-f977-4df9-86b7-c9cad7ed9de5",
   "metadata": {},
   "outputs": [],
   "source": [
    "import numpy as np\n",
    "import pandas as pd"
   ]
  },
  {
   "cell_type": "code",
   "execution_count": 132,
   "id": "2b71d7c2-bac1-44b3-ac6f-a108cdb3f873",
   "metadata": {},
   "outputs": [
    {
     "name": "stdout",
     "output_type": "stream",
     "text": [
      "   Column1  Column2  Column3\n",
      "0       18      100       44\n",
      "1       49       71       26\n",
      "2       28       36       29\n",
      "3       74       82       76\n",
      "4        6       85       86\n"
     ]
    }
   ],
   "source": [
    "#Que = 24\n",
    "data = np.random.randint(1, 101, size=(5, 3))\n",
    "df = pd.DataFrame(data, columns=['Column1', 'Column2', 'Column3'])\n",
    "print(df)"
   ]
  },
  {
   "cell_type": "code",
   "execution_count": 133,
   "id": "daae5652-2012-4089-8143-d0c266c28820",
   "metadata": {},
   "outputs": [
    {
     "name": "stdout",
     "output_type": "stream",
     "text": [
      "    A\n",
      "0  10\n",
      "1   0\n",
      "2   7\n",
      "3   0\n",
      "4  15\n"
     ]
    }
   ],
   "source": [
    "#Que = 25\n",
    "def replace_negatives_with_zero(df, a):\n",
    "    df[a] = np.where(df[a] < 0, 0, df[a])\n",
    "    return df\n",
    "data = {\n",
    "    'A': [10, -5, 7, -2, 15],}\n",
    "df = pd.DataFrame(data)\n",
    "df = replace_negatives_with_zero(df, 'A')\n",
    "\n",
    "print(df)\n"
   ]
  },
  {
   "cell_type": "markdown",
   "id": "672164e9-12ce-40c5-a455-4d25bae5ffc2",
   "metadata": {},
   "source": [
    "##Array Generation"
   ]
  },
  {
   "cell_type": "code",
   "execution_count": 134,
   "id": "e536d79d-506d-44d0-9973-c6904706d5e2",
   "metadata": {},
   "outputs": [
    {
     "name": "stdout",
     "output_type": "stream",
     "text": [
      "[1 3 5 7 9]\n"
     ]
    }
   ],
   "source": [
    "#Que 21\n",
    "def generate_range_array(start, stop, step):\n",
    "    return np.arange(start, stop + 1, step)\n",
    "arr = generate_range_array(1, 10, 2)\n",
    "print(arr)\n"
   ]
  },
  {
   "cell_type": "code",
   "execution_count": 139,
   "id": "4f2ff82a-cbd2-4912-8c4d-630fa1c2df34",
   "metadata": {},
   "outputs": [
    {
     "name": "stdout",
     "output_type": "stream",
     "text": [
      "[0.         0.11111111 0.22222222 0.33333333 0.44444444 0.55555556\n",
      " 0.66666667 0.77777778 0.88888889 1.        ]\n"
     ]
    }
   ],
   "source": [
    "#Que 22\n",
    "def generate_linear_space():\n",
    "    return np.linspace(0, 1, 10)\n",
    "arr = generate_linear_space()\n",
    "print(arr)"
   ]
  },
  {
   "cell_type": "code",
   "execution_count": 140,
   "id": "ef3c81e1-5dee-4be9-9d99-f947b9e34fd8",
   "metadata": {},
   "outputs": [
    {
     "name": "stdout",
     "output_type": "stream",
     "text": [
      "[   1.            5.62341325   31.6227766   177.827941   1000.        ]\n"
     ]
    }
   ],
   "source": [
    "#Que 23\n",
    "def generate_log_space():\n",
    "    return np.logspace(0, 3, 5)\n",
    "arr = generate_log_space()\n",
    "print(arr)"
   ]
  },
  {
   "cell_type": "markdown",
   "id": "a86c7843-c939-4f6d-8dd3-2e5edb0a1521",
   "metadata": {},
   "source": [
    "##Indexing and Slicing"
   ]
  },
  {
   "cell_type": "code",
   "execution_count": 143,
   "id": "56f3ccfd-9dbc-4a99-998c-f4481991069c",
   "metadata": {},
   "outputs": [
    {
     "name": "stdout",
     "output_type": "stream",
     "text": [
      "3rd element: 30\n"
     ]
    }
   ],
   "source": [
    "#QUE 26\n",
    "arr = np.array([10, 20, 30, 40, 50])\n",
    "third_element = arr[2] \n",
    "print(\"3rd element:\", third_element)"
   ]
  },
  {
   "cell_type": "code",
   "execution_count": 144,
   "id": "5a9924de-4609-4361-ae6d-e198c3e2a8f0",
   "metadata": {},
   "outputs": [
    {
     "name": "stdout",
     "output_type": "stream",
     "text": [
      "6\n"
     ]
    }
   ],
   "source": [
    "#Que 27\n",
    "array_2d = np.array([[1, 2, 3], [4, 5, 6], [7, 8, 9]])\n",
    "element = array_2d[1, 2] \n",
    "print( element)"
   ]
  },
  {
   "cell_type": "code",
   "execution_count": 146,
   "id": "50ff80d3-cb07-4f63-a0ff-607df23d713b",
   "metadata": {},
   "outputs": [
    {
     "name": "stdout",
     "output_type": "stream",
     "text": [
      "[7 9]\n"
     ]
    }
   ],
   "source": [
    "#Que 28\n",
    "arr = np.array([1, 3, 5, 7, 9])\n",
    "a = arr[arr > 5]\n",
    "print(a)"
   ]
  },
  {
   "cell_type": "code",
   "execution_count": 147,
   "id": "43e48e54-d4fe-40ec-b59f-41c2d5713828",
   "metadata": {},
   "outputs": [
    {
     "name": "stdout",
     "output_type": "stream",
     "text": [
      "[30 40 50 60]\n"
     ]
    }
   ],
   "source": [
    "#Que 29\n",
    "arr = np.array([10, 20, 30, 40, 50, 60, 70])\n",
    "a = arr[2:6]\n",
    "print(a)"
   ]
  },
  {
   "cell_type": "code",
   "execution_count": 148,
   "id": "0c742050-6288-42ba-a66b-7e0858a2b9cd",
   "metadata": {},
   "outputs": [
    {
     "name": "stdout",
     "output_type": "stream",
     "text": [
      "[[2 3]\n",
      " [5 6]]\n"
     ]
    }
   ],
   "source": [
    "#Que 30\n",
    "a = np.array([\n",
    "    [1, 2, 3],\n",
    "    [4, 5, 6],\n",
    "    [7, 8, 9]\n",
    "])\n",
    "\n",
    "arr = a[0:2, 1:3] \n",
    "print(arr)"
   ]
  },
  {
   "cell_type": "markdown",
   "id": "30a79cad-3dda-40c1-b045-2ca8ccdfafa8",
   "metadata": {},
   "source": [
    "##Advanced Indexing"
   ]
  },
  {
   "cell_type": "code",
   "execution_count": 238,
   "id": "f6cab18f-1ee4-4c95-ad25-d7cde889b315",
   "metadata": {},
   "outputs": [
    {
     "name": "stdout",
     "output_type": "stream",
     "text": [
      "[10 50 90]\n"
     ]
    }
   ],
   "source": [
    "#Que 31\n",
    "arr= np.array([[10, 20, 30],[40, 50, 60],[70, 80, 90]])\n",
    "row_indices = [0, 1, 2]\n",
    "col_indices = [0, 1, 2]\n",
    "result = arr[row_indices, col_indices]\n",
    "print(result)"
   ]
  },
  {
   "cell_type": "code",
   "execution_count": 154,
   "id": "6f9a666a-0ba5-4449-8855-378fc09e292f",
   "metadata": {},
   "outputs": [
    {
     "name": "stdout",
     "output_type": "stream",
     "text": [
      "6 : [ 8 12  7]\n"
     ]
    }
   ],
   "source": [
    "#QUe 32\n",
    "arr = np.array([5, 8, 12, 3, 7])\n",
    "threshold = 6\n",
    "filtered = arr[arr > threshold]\n",
    "print( threshold, \":\", filtered)"
   ]
  },
  {
   "cell_type": "code",
   "execution_count": 155,
   "id": "49586bf0-46e6-4cd5-ba02-62a32b26d729",
   "metadata": {},
   "outputs": [
    {
     "name": "stdout",
     "output_type": "stream",
     "text": [
      "[4 5]\n"
     ]
    }
   ],
   "source": [
    "#Que 33\n",
    "arr_3d = np.array([[[1, 2], [3, 4]],[[5, 6], [7, 8]]])\n",
    "i = np.array([0, 1])\n",
    "j = np.array([1, 0])\n",
    "k = np.array([1, 0])\n",
    "result = arr_3d[i, j, k]\n",
    "print(result)\n"
   ]
  },
  {
   "cell_type": "code",
   "execution_count": 156,
   "id": "cd848512-8a05-4dd0-ad75-b4ac221c17a4",
   "metadata": {},
   "outputs": [
    {
     "name": "stdout",
     "output_type": "stream",
     "text": [
      "[20 25]\n"
     ]
    }
   ],
   "source": [
    "#Que 34\n",
    "arr = np.array([10, 15, 20, 25, 30])\n",
    "result = arr[(arr > 15) & (arr < 30)]\n",
    "print(result)"
   ]
  },
  {
   "cell_type": "code",
   "execution_count": 157,
   "id": "adc00fb8-b6bb-4210-a470-b23cc7a1aba0",
   "metadata": {},
   "outputs": [
    {
     "name": "stdout",
     "output_type": "stream",
     "text": [
      "Selected elements: [30 40 80]\n"
     ]
    }
   ],
   "source": [
    "#Que 35\n",
    "array_2d = np.array([[10, 20, 30],[40, 50, 60],[70, 80, 90]])\n",
    "row_indices = np.array([0, 1, 2])\n",
    "col_indices = np.array([2, 0, 1])\n",
    "result = array_2d[row_indices, col_indices]\n",
    "print(\"Selected elements:\", result)\n"
   ]
  },
  {
   "cell_type": "markdown",
   "id": "cbf9e567-95ae-4def-b605-9ab8b4f3b256",
   "metadata": {},
   "source": [
    "##Broadcasting"
   ]
  },
  {
   "cell_type": "code",
   "execution_count": 159,
   "id": "9d068bdf-4189-4b32-9d3a-abf5d93129a3",
   "metadata": {},
   "outputs": [
    {
     "name": "stdout",
     "output_type": "stream",
     "text": [
      "[ 6  7  8  9 10]\n"
     ]
    }
   ],
   "source": [
    "#Que 36\n",
    "arr = np.array([1, 2, 3, 4, 5])\n",
    "result = arr + 5\n",
    "print(result)"
   ]
  },
  {
   "cell_type": "code",
   "execution_count": 161,
   "id": "64de5e64-57ac-413c-8160-0691c10b9a0e",
   "metadata": {},
   "outputs": [
    {
     "name": "stdout",
     "output_type": "stream",
     "text": [
      "[[ 1  2  3  4]\n",
      " [10 12 14 16]\n",
      " [27 30 33 36]]\n"
     ]
    }
   ],
   "source": [
    "#Que 37\n",
    "arr = np.array([[1, 2, 3, 4],[5, 6, 7, 8], [9, 10, 11, 12]])\n",
    "factors = np.array([[1], [2], [3]])\n",
    "result = arr * factors \n",
    "print(result)"
   ]
  },
  {
   "cell_type": "code",
   "execution_count": 162,
   "id": "927c53c2-aa60-4ce1-8d6f-e43f1687960a",
   "metadata": {},
   "outputs": [
    {
     "name": "stdout",
     "output_type": "stream",
     "text": [
      "[[11 22 33]\n",
      " [14 25 36]\n",
      " [17 28 39]\n",
      " [20 31 42]]\n"
     ]
    }
   ],
   "source": [
    "#Que 38\n",
    "arr = np.array([[1, 2, 3],[4, 5, 6],[7, 8, 9],[10, 11, 12]])\n",
    "to_add = np.array([[10, 20, 30]])  # Shape: (1, 3)\n",
    "result = arr + to_add\n",
    "print( result)"
   ]
  },
  {
   "cell_type": "code",
   "execution_count": 164,
   "id": "f304eac8-5784-4bc8-b930-8e186665d68f",
   "metadata": {},
   "outputs": [
    {
     "name": "stdout",
     "output_type": "stream",
     "text": [
      "[[11 21 31]\n",
      " [12 22 32]\n",
      " [13 23 33]]\n"
     ]
    }
   ],
   "source": [
    "#Que 39\n",
    "a = np.array([[1], [2], [3]])\n",
    "b = np.array([[10, 20, 30]])  \n",
    "result = a + b \n",
    "print(result)"
   ]
  },
  {
   "cell_type": "code",
   "execution_count": 165,
   "id": "ee249d17-d3bc-4dfa-a0d7-1cd235bd1408",
   "metadata": {},
   "outputs": [
    {
     "name": "stdout",
     "output_type": "stream",
     "text": [
      "operands could not be broadcast together with shapes (2,3) (2,2) \n"
     ]
    }
   ],
   "source": [
    "#Que 40\n",
    "a = np.array([[1, 2, 3],[4, 5, 6]])\n",
    "b = np.array([[1, 2],[3, 4]])  \n",
    "try:\n",
    "    result = a * b  \n",
    "except ValueError as e:\n",
    "    print( e)"
   ]
  },
  {
   "cell_type": "markdown",
   "id": "d602028f-5532-4ec2-8b8c-4b2449b56c92",
   "metadata": {},
   "source": [
    "##Aggregations and Statistics"
   ]
  },
  {
   "cell_type": "code",
   "execution_count": 166,
   "id": "3a7875a9-fe58-47d6-8427-ec33c8f23e59",
   "metadata": {},
   "outputs": [
    {
     "name": "stdout",
     "output_type": "stream",
     "text": [
      "[40. 50. 60.]\n"
     ]
    }
   ],
   "source": [
    "#Que 41\n",
    "arr = np.array([[10, 20, 30],\n",
    "                [40, 50, 60],\n",
    "                [70, 80, 90]])\n",
    "\n",
    "col_mean = np.mean(arr, axis=0)\n",
    "print(col_mean)"
   ]
  },
  {
   "cell_type": "code",
   "execution_count": 167,
   "id": "4306bb33-92ef-46ad-8b5c-b92f569941e6",
   "metadata": {},
   "outputs": [
    {
     "data": {
      "text/plain": [
       "array([[10, 20, 30],\n",
       "       [40, 50, 60],\n",
       "       [70, 80, 90]])"
      ]
     },
     "execution_count": 167,
     "metadata": {},
     "output_type": "execute_result"
    }
   ],
   "source": [
    "arr"
   ]
  },
  {
   "cell_type": "code",
   "execution_count": 169,
   "id": "95521d6b-31f0-44b5-b2b9-7c642e686ae5",
   "metadata": {},
   "outputs": [
    {
     "name": "stdout",
     "output_type": "stream",
     "text": [
      "[30 60 90]\n"
     ]
    }
   ],
   "source": [
    "#Que 42\n",
    "row_max = np.max(arr, axis=1)\n",
    "print(row_max)"
   ]
  },
  {
   "cell_type": "code",
   "execution_count": 170,
   "id": "7f17f4b4-9213-4dc9-8616-19b9548aa716",
   "metadata": {},
   "outputs": [
    {
     "name": "stdout",
     "output_type": "stream",
     "text": [
      "[2 2 2]\n"
     ]
    }
   ],
   "source": [
    "#Que 43\n",
    "max_indices = np.argmax(arr, axis=0)\n",
    "print(max_indices)"
   ]
  },
  {
   "cell_type": "code",
   "execution_count": 172,
   "id": "7cad58da-dd13-4c10-b463-0c660129ed21",
   "metadata": {},
   "outputs": [
    {
     "name": "stdout",
     "output_type": "stream",
     "text": [
      "[ True  True  True]\n"
     ]
    }
   ],
   "source": [
    "#Que 45\n",
    "all_even = np.all(arr % 2 == 0, axis=0)\n",
    "print(all_even)"
   ]
  },
  {
   "cell_type": "markdown",
   "id": "36741741-88c9-4edb-8413-d80914c6bc8a",
   "metadata": {},
   "source": [
    "##Reshaping and Flattening"
   ]
  },
  {
   "cell_type": "code",
   "execution_count": 174,
   "id": "455e172e-a23c-4c3a-900d-f89eef4dc66e",
   "metadata": {},
   "outputs": [
    {
     "name": "stdout",
     "output_type": "stream",
     "text": [
      "[[1 2 3]\n",
      " [4 5 6]]\n"
     ]
    }
   ],
   "source": [
    "#Que 46\n",
    "arr = np.array([1, 2, 3, 4, 5, 6])\n",
    "a= arr.reshape(2, 3)\n",
    "print(a)"
   ]
  },
  {
   "cell_type": "code",
   "execution_count": 176,
   "id": "421200f5-f0f8-43d9-b9fa-3dcd9b2d3b47",
   "metadata": {},
   "outputs": [
    {
     "name": "stdout",
     "output_type": "stream",
     "text": [
      "[1 2 3 4]\n"
     ]
    }
   ],
   "source": [
    "#Que 47\n",
    "a = np.array([[1, 2], [3, 4]])\n",
    "flattened = a.flatten()\n",
    "\n",
    "print(flattened)"
   ]
  },
  {
   "cell_type": "code",
   "execution_count": 179,
   "id": "29248773-e36e-442b-9a54-beddf791f152",
   "metadata": {},
   "outputs": [
    {
     "name": "stdout",
     "output_type": "stream",
     "text": [
      "a [[1 2]\n",
      " [3 4]\n",
      " [5 6]\n",
      " [7 8]]\n",
      "b [[1 2 5 6]\n",
      " [3 4 7 8]]\n"
     ]
    }
   ],
   "source": [
    "#Que 48\n",
    "a = np.array([[1, 2], [3, 4]])\n",
    "b = np.array([[5, 6], [7, 8]])\n",
    "concat_axis0 = np.concatenate((a, b), axis=0)\n",
    "concat_axis1 = np.concatenate((a, b), axis=1)\n",
    "print('a',concat_axis0)\n",
    "print('b',concat_axis1)"
   ]
  },
  {
   "cell_type": "code",
   "execution_count": 181,
   "id": "11a19849-dec2-4e18-a70c-d830ef6540da",
   "metadata": {},
   "outputs": [
    {
     "name": "stdout",
     "output_type": "stream",
     "text": [
      "[[1 2]\n",
      " [5 6]]\n",
      "[[3 4]\n",
      " [7 8]]\n"
     ]
    }
   ],
   "source": [
    "#Que 49\n",
    "arr = np.array([[1, 2, 3, 4],[5, 6, 7, 8]])\n",
    "a = np.split(arr, 2, axis=1)\n",
    "for i in a:\n",
    "    print(i)"
   ]
  },
  {
   "cell_type": "code",
   "execution_count": 183,
   "id": "62a9a839-c57c-4cd3-b3e7-b3f0100e61a9",
   "metadata": {},
   "outputs": [
    {
     "name": "stdout",
     "output_type": "stream",
     "text": [
      "a [10 20 25 30 40 50]\n",
      "b [10 20 30 50]\n"
     ]
    }
   ],
   "source": [
    "#Que 50\n",
    "arr = np.array([10, 20, 30, 40, 50])\n",
    "inserted = np.insert(arr, 2, 25)\n",
    "deleted = np.delete(arr, 3)\n",
    "print('a',inserted)\n",
    "print('b',deleted)\n"
   ]
  },
  {
   "cell_type": "code",
   "execution_count": 185,
   "id": "d6baea99-e47b-4d26-98f7-88a55227e6de",
   "metadata": {},
   "outputs": [],
   "source": [
    "\n",
    "arr1 = np.array([2, 4, 6, 8])\n",
    "arr2 = np.array([1, 2, 3, 4])"
   ]
  },
  {
   "cell_type": "markdown",
   "id": "784414c5-662a-44a8-8726-c5eed1d6a89d",
   "metadata": {},
   "source": [
    "##Element-wise Operations"
   ]
  },
  {
   "cell_type": "code",
   "execution_count": 187,
   "id": "4f5234f1-a40c-407f-8785-dbbb990cb55f",
   "metadata": {},
   "outputs": [
    {
     "name": "stdout",
     "output_type": "stream",
     "text": [
      "[ 3  6  9 12]\n"
     ]
    }
   ],
   "source": [
    "#Que 51\n",
    "a = arr1 + arr2\n",
    "print(a)"
   ]
  },
  {
   "cell_type": "code",
   "execution_count": 188,
   "id": "44d35c6e-dd78-4389-b7e8-b215ed82c246",
   "metadata": {},
   "outputs": [
    {
     "name": "stdout",
     "output_type": "stream",
     "text": [
      "[1 2 3 4]\n"
     ]
    }
   ],
   "source": [
    "#Que 52\n",
    "sub = arr1-arr2\n",
    "print(sub)"
   ]
  },
  {
   "cell_type": "code",
   "execution_count": 189,
   "id": "8c9cdc2a-16b6-40bc-bac6-5ba301cb6304",
   "metadata": {},
   "outputs": [
    {
     "name": "stdout",
     "output_type": "stream",
     "text": [
      "[ 2  8 18 32]\n"
     ]
    }
   ],
   "source": [
    "#Que 53\n",
    "mul = arr1*arr2\n",
    "print(mul)"
   ]
  },
  {
   "cell_type": "code",
   "execution_count": 190,
   "id": "6c7ed081-0246-4937-9eea-7f4ba677752d",
   "metadata": {},
   "outputs": [
    {
     "name": "stdout",
     "output_type": "stream",
     "text": [
      "[2. 2. 2. 2.]\n"
     ]
    }
   ],
   "source": [
    "#Que 54\n",
    "div = arr1/arr2\n",
    "print(div)"
   ]
  },
  {
   "cell_type": "code",
   "execution_count": 191,
   "id": "dd929888-9403-440c-8ceb-c48adcb3e4fd",
   "metadata": {},
   "outputs": [
    {
     "name": "stdout",
     "output_type": "stream",
     "text": [
      "[   2   16  216 4096]\n"
     ]
    }
   ],
   "source": [
    "#Que 55\n",
    "expo=arr1**arr2\n",
    "print(expo)"
   ]
  },
  {
   "cell_type": "markdown",
   "id": "4469c52c-056e-49d7-b05e-78c953cf17eb",
   "metadata": {},
   "source": [
    "##String Operations"
   ]
  },
  {
   "cell_type": "code",
   "execution_count": 192,
   "id": "e81b3a2e-ef06-4e58-838f-ab1a1a352d91",
   "metadata": {},
   "outputs": [],
   "source": [
    "arr = np.array([\"Hello World\", \"Python PROGRAMMING\", \"HELLO\", \"data123\", \"NumPy\"])"
   ]
  },
  {
   "cell_type": "code",
   "execution_count": 194,
   "id": "a30bc3ec-8854-478a-86d2-765be51d60cb",
   "metadata": {},
   "outputs": [
    {
     "name": "stdout",
     "output_type": "stream",
     "text": [
      "[2 1 0 0 0]\n"
     ]
    }
   ],
   "source": [
    "#Que 56\n",
    "substring = \"o\"\n",
    "counts = np.char.count(arr, substring)\n",
    "print( counts)"
   ]
  },
  {
   "cell_type": "code",
   "execution_count": 198,
   "id": "c8b1e8c7-2ab9-4267-be31-eff2cff2b849",
   "metadata": {},
   "outputs": [
    {
     "name": "stdout",
     "output_type": "stream",
     "text": [
      "['HW' 'PPROGRAMMING' 'HELLO' '' 'NP']\n"
     ]
    }
   ],
   "source": [
    "#Que 57\n",
    "def extract_uppercase(array):\n",
    "    return np.array([''.join([char for char in s if char.isupper()]) for s in array])\n",
    "a = extract_uppercase(arr)\n",
    "print(a)"
   ]
  },
  {
   "cell_type": "code",
   "execution_count": 200,
   "id": "31f538b9-3aaf-474b-aad9-72a881965daf",
   "metadata": {},
   "outputs": [
    {
     "name": "stdout",
     "output_type": "stream",
     "text": [
      "['Hi World' 'Python PROGRAMMING' 'HELLO' 'data123' 'NumPy']\n"
     ]
    }
   ],
   "source": [
    "#Que 58\n",
    "replaced = np.char.replace(arr, \"Hello\", \"Hi\")\n",
    "print( replaced)"
   ]
  },
  {
   "cell_type": "code",
   "execution_count": 203,
   "id": "147ddbf0-a874-4dc0-8246-96572fcd5f04",
   "metadata": {},
   "outputs": [
    {
     "name": "stdout",
     "output_type": "stream",
     "text": [
      "['Hello World!' 'Python PROGRAMMING is fun' 'HELLO AGAIN' 'data123_456'\n",
      " 'NumPy Array']\n"
     ]
    }
   ],
   "source": [
    "#Que 59\n",
    "arr2 = np.array([\"!\", \" is fun\", \" AGAIN\", \"_456\", \" Array\"])\n",
    "concatenated = np.char.add(arr, arr2)\n",
    "print(concatenated)"
   ]
  },
  {
   "cell_type": "code",
   "execution_count": 206,
   "id": "9b717661-e87a-4d63-a37e-9781562044df",
   "metadata": {},
   "outputs": [
    {
     "name": "stdout",
     "output_type": "stream",
     "text": [
      "18\n"
     ]
    }
   ],
   "source": [
    "#Que 56\n",
    "lengths = np.char.str_len(arr)\n",
    "max_length = np.max(lengths)\n",
    "print(max_length)"
   ]
  },
  {
   "cell_type": "markdown",
   "id": "946bd70c-5627-40c3-b96b-fac522bd5d29",
   "metadata": {},
   "source": [
    "##Descriptive Statistics"
   ]
  },
  {
   "cell_type": "code",
   "execution_count": 217,
   "id": "86822f46-d736-44c0-a5e4-d6e97c2630a3",
   "metadata": {},
   "outputs": [
    {
     "name": "stdout",
     "output_type": "stream",
     "text": [
      "Mean 49.94\n",
      "Median 55.5\n",
      "Variance 754.3763999999999\n",
      "Sd 27.465913420092182\n"
     ]
    }
   ],
   "source": [
    "#Que 61\n",
    "arr = np.random.randint(1, 100, 50)\n",
    "mean = np.mean(arr)\n",
    "median = np.median(arr)\n",
    "variance = np.var(arr)\n",
    "std_dev = np.std(arr)\n",
    "print(\"Mean\", mean)\n",
    "print(\"Median\", median)\n",
    "print(\"Variance\", variance)\n",
    "print(\"Sd\", std_dev)\n"
   ]
  },
  {
   "cell_type": "code",
   "execution_count": 218,
   "id": "c5b29d7f-1501-4958-adc9-463f2f5fbe19",
   "metadata": {},
   "outputs": [
    {
     "name": "stdout",
     "output_type": "stream",
     "text": [
      "25th P 26.25\n",
      "75th P 74.5\n"
     ]
    }
   ],
   "source": [
    "#Que 62\n",
    "a= np.percentile(arr, 25)\n",
    "a1 = np.percentile(arr, 75)\n",
    "\n",
    "print(\"25th P\",a)\n",
    "print(\"75th P\",a1)\n"
   ]
  },
  {
   "cell_type": "code",
   "execution_count": 219,
   "id": "d4134359-fa25-4799-9ce7-7df98a53a3b3",
   "metadata": {},
   "outputs": [
    {
     "name": "stdout",
     "output_type": "stream",
     "text": [
      "0.12390284351442507\n"
     ]
    }
   ],
   "source": [
    "#Que 63\n",
    "arr2 = np.random.randint(1, 100, 50)\n",
    "\n",
    "a = np.corrcoef(arr,arr2)\n",
    "correlation = a[0, 1]\n",
    "\n",
    "print(correlation)"
   ]
  },
  {
   "cell_type": "code",
   "execution_count": 222,
   "id": "68c9eaa5-e3df-461b-9fc3-79763922e1c3",
   "metadata": {},
   "outputs": [
    {
     "name": "stdout",
     "output_type": "stream",
     "text": [
      "[[19 22]\n",
      " [43 50]]\n"
     ]
    }
   ],
   "source": [
    "#Que 64\n",
    "A = np.array([[1, 2], [3, 4]])\n",
    "B = np.array([[5, 6], [7, 8]])\n",
    "product = np.dot(A, B)\n",
    "print(product)"
   ]
  },
  {
   "cell_type": "code",
   "execution_count": 223,
   "id": "ed7969c2-1fe9-43e4-9ce5-c55939110293",
   "metadata": {},
   "outputs": [
    {
     "name": "stdout",
     "output_type": "stream",
     "text": [
      "10th Percentile: 7.0\n",
      "50th Percentile (Median): 55.5\n",
      "90th Percentile: 81.5\n",
      "Q1 (25th Percentile): 26.25\n",
      "Q3 (75th Percentile): 74.5\n"
     ]
    }
   ],
   "source": [
    "#Que 65\n",
    "p10 = np.percentile(arr, 10)\n",
    "p50 = np.percentile(arr, 50)  # Median\n",
    "p90 = np.percentile(arr, 90)\n",
    "\n",
    "q1 = np.percentile(arr, 25)\n",
    "q3 = np.percentile(arr, 75)\n",
    "\n",
    "print(\"10th Percentile:\", p10)\n",
    "print(\"50th Percentile (Median):\", p50)\n",
    "print(\"90th Percentile:\", p90)\n",
    "print(\"Q1 (25th Percentile):\", q1)\n",
    "print(\"Q3 (75th Percentile):\", q3)"
   ]
  },
  {
   "cell_type": "markdown",
   "id": "abeb6e46-b070-4682-aed5-dee48f9032d6",
   "metadata": {},
   "source": [
    "##Search and Sort"
   ]
  },
  {
   "cell_type": "code",
   "execution_count": 224,
   "id": "50d75fea-67ac-4f1f-b6a3-0b24f4b19326",
   "metadata": {},
   "outputs": [
    {
     "name": "stdout",
     "output_type": "stream",
     "text": [
      "Index of element 30: 2\n"
     ]
    }
   ],
   "source": [
    "#Que 66\n",
    "arr = np.array([10, 25, 30, 45, 60, 15, 35])\n",
    "index = np.where(arr == 30)[0]\n",
    "if index.size > 0:\n",
    "    print(\"Index of element 30:\", index[0])\n",
    "else:\n",
    "    print(\"Element not found.\")\n"
   ]
  },
  {
   "cell_type": "code",
   "execution_count": 227,
   "id": "769303e8-87ba-4a6f-99cc-45a2994e23c6",
   "metadata": {},
   "outputs": [
    {
     "name": "stdout",
     "output_type": "stream",
     "text": [
      "Sorted array: [ 2  9 19 21 22 25 39 43 78 93]\n"
     ]
    }
   ],
   "source": [
    "#Que 67\n",
    "rand = np.random.randint(1, 100, 10)\n",
    "sort = np.sort(rand)\n",
    "print(\"Sorted array:\", sort)"
   ]
  },
  {
   "cell_type": "code",
   "execution_count": 229,
   "id": "fde4b9a0-62ef-401d-b5c0-bde2c357392a",
   "metadata": {},
   "outputs": [
    {
     "name": "stdout",
     "output_type": "stream",
     "text": [
      "[25 30 45 60 35]\n"
     ]
    }
   ],
   "source": [
    "#Que 68\n",
    "greater_num = arr[arr > 20]\n",
    "print(greater_num)"
   ]
  },
  {
   "cell_type": "code",
   "execution_count": 230,
   "id": "177467b4-3433-4f43-a8a0-acc3c314ca5e",
   "metadata": {},
   "outputs": [
    {
     "name": "stdout",
     "output_type": "stream",
     "text": [
      "[30 45 60 15]\n"
     ]
    }
   ],
   "source": [
    "#Que 69\n",
    "div_by_3 = arr[arr % 3 == 0]\n",
    "print(div_by_3)"
   ]
  },
  {
   "cell_type": "code",
   "execution_count": 235,
   "id": "205c31a4-7c31-4c21-8f98-486703230a6b",
   "metadata": {},
   "outputs": [
    {
     "name": "stdout",
     "output_type": "stream",
     "text": [
      "[]\n"
     ]
    }
   ],
   "source": [
    "#Que 70\n",
    "num = arr[(arr >= 20) & (arr <= 40)]\n",
    "print(num)"
   ]
  },
  {
   "cell_type": "markdown",
   "id": "f29e7e85-c0e3-4b98-82c8-484f8aa4c7dc",
   "metadata": {},
   "source": [
    "##Byte Order & Swapping"
   ]
  },
  {
   "cell_type": "code",
   "execution_count": 233,
   "id": "0373f123-bd1a-4c00-ba51-364a13808d2e",
   "metadata": {},
   "outputs": [
    {
     "name": "stdout",
     "output_type": "stream",
     "text": [
      "Byte order: native (depends on system)\n"
     ]
    }
   ],
   "source": [
    "#Que 71\n",
    "arr = np.array([1, 2, 3], dtype=np.int16)\n",
    "byte_order = arr.dtype.byteorder\n",
    "if byte_order == '=':\n",
    "    byte_order = 'native (depends on system)'\n",
    "elif byte_order == '<':\n",
    "    byte_order = 'little-endian'\n",
    "elif byte_order == '>':\n",
    "    byte_order = 'big-endian'\n",
    "\n",
    "print(\"Byte order:\", byte_order)"
   ]
  },
  {
   "cell_type": "code",
   "execution_count": 234,
   "id": "226cf193-e583-43d7-8bdb-485ce9ef6bc8",
   "metadata": {},
   "outputs": [
    {
     "name": "stdout",
     "output_type": "stream",
     "text": [
      "[  256     1 65535]\n"
     ]
    }
   ],
   "source": [
    "#Que 72\n",
    "arr = np.array([1, 256, 65535], dtype=np.uint16)\n",
    "arr.byteswap(inplace=True)\n",
    "print(arr)"
   ]
  },
  {
   "cell_type": "code",
   "execution_count": null,
   "id": "0c753d74-4e44-4caf-9449-aa6f10b65811",
   "metadata": {},
   "outputs": [],
   "source": []
  }
 ],
 "metadata": {
  "kernelspec": {
   "display_name": "Python [conda env:base] *",
   "language": "python",
   "name": "conda-base-py"
  },
  "language_info": {
   "codemirror_mode": {
    "name": "ipython",
    "version": 3
   },
   "file_extension": ".py",
   "mimetype": "text/x-python",
   "name": "python",
   "nbconvert_exporter": "python",
   "pygments_lexer": "ipython3",
   "version": "3.12.7"
  }
 },
 "nbformat": 4,
 "nbformat_minor": 5
}
